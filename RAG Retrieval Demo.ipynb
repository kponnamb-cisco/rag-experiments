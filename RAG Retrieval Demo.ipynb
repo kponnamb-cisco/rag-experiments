{
 "cells": [
  {
   "cell_type": "code",
   "execution_count": 119,
   "id": "52dd41f2-db14-416a-b2d6-20843434869e",
   "metadata": {},
   "outputs": [],
   "source": [
    "#!pip install pymilvus==2.3.0\n",
    "#!pip install transformers==4.35.2\n",
    "#!pip install pandas==2.1.3\n",
    "#!pip install mistralai\n",
    "#!pip install rank_bm25\n",
    "#!pip install sentence_transformers"
   ]
  },
  {
   "cell_type": "markdown",
   "id": "d9b085f1-33b1-4bc2-adf8-d1521388cfea",
   "metadata": {},
   "source": [
    "### Loading a Test CSV"
   ]
  },
  {
   "cell_type": "code",
   "execution_count": 16,
   "id": "7f0e2be1-2858-454a-9252-6c110262b32e",
   "metadata": {},
   "outputs": [
    {
     "data": {
      "text/html": [
       "<div>\n",
       "<style scoped>\n",
       "    .dataframe tbody tr th:only-of-type {\n",
       "        vertical-align: middle;\n",
       "    }\n",
       "\n",
       "    .dataframe tbody tr th {\n",
       "        vertical-align: top;\n",
       "    }\n",
       "\n",
       "    .dataframe thead th {\n",
       "        text-align: right;\n",
       "    }\n",
       "</style>\n",
       "<table border=\"1\" class=\"dataframe\">\n",
       "  <thead>\n",
       "    <tr style=\"text-align: right;\">\n",
       "      <th></th>\n",
       "      <th>Rating</th>\n",
       "      <th>Content</th>\n",
       "    </tr>\n",
       "  </thead>\n",
       "  <tbody>\n",
       "    <tr>\n",
       "      <th>0</th>\n",
       "      <td>10</td>\n",
       "      <td>Python Python Python Python Python</td>\n",
       "    </tr>\n",
       "    <tr>\n",
       "      <th>1</th>\n",
       "      <td>3</td>\n",
       "      <td>C Java Javascript Python Pascal</td>\n",
       "    </tr>\n",
       "    <tr>\n",
       "      <th>2</th>\n",
       "      <td>6</td>\n",
       "      <td>Python HR Development Sales Marketing</td>\n",
       "    </tr>\n",
       "    <tr>\n",
       "      <th>3</th>\n",
       "      <td>9</td>\n",
       "      <td>Snake Viper Reptile cobra anaconda</td>\n",
       "    </tr>\n",
       "    <tr>\n",
       "      <th>4</th>\n",
       "      <td>2</td>\n",
       "      <td>Brady Messi Ronaldo James Becker</td>\n",
       "    </tr>\n",
       "    <tr>\n",
       "      <th>5</th>\n",
       "      <td>5</td>\n",
       "      <td>Lion Tiger Elephant Whale Crocodile</td>\n",
       "    </tr>\n",
       "    <tr>\n",
       "      <th>6</th>\n",
       "      <td>7</td>\n",
       "      <td>Google Amazon Microsoft Facebook Apple</td>\n",
       "    </tr>\n",
       "    <tr>\n",
       "      <th>7</th>\n",
       "      <td>8</td>\n",
       "      <td>Apple Orange Grape Melon Berry</td>\n",
       "    </tr>\n",
       "  </tbody>\n",
       "</table>\n",
       "</div>"
      ],
      "text/plain": [
       "   Rating                                 Content\n",
       "0      10      Python Python Python Python Python\n",
       "1       3         C Java Javascript Python Pascal\n",
       "2       6   Python HR Development Sales Marketing\n",
       "3       9      Snake Viper Reptile cobra anaconda\n",
       "4       2        Brady Messi Ronaldo James Becker\n",
       "5       5     Lion Tiger Elephant Whale Crocodile\n",
       "6       7  Google Amazon Microsoft Facebook Apple\n",
       "7       8          Apple Orange Grape Melon Berry"
      ]
     },
     "execution_count": 16,
     "metadata": {},
     "output_type": "execute_result"
    }
   ],
   "source": [
    "import pandas as pd\n",
    "ref_content = pd.read_csv(\"rag-reference.csv\")\n",
    "ref_content.head(10)"
   ]
  },
  {
   "cell_type": "markdown",
   "id": "86bc7505-c3ad-4e5c-8bdc-34178114c80c",
   "metadata": {},
   "source": [
    "### Setup Milvus"
   ]
  },
  {
   "cell_type": "code",
   "execution_count": 17,
   "id": "8b675bcd-687a-48ee-8032-78cb525673ca",
   "metadata": {},
   "outputs": [],
   "source": [
    "#Creating a Milvus connection\n",
    "\n",
    "from pymilvus import connections\n",
    "\n",
    "connections.add_connection(\n",
    "    vowel={\n",
    "        \"host\": \"localhost\",\n",
    "        \"port\": \"19530\",\n",
    "        \"username\" : \"username\",\n",
    "        \"password\" : \"password\"\n",
    "    })\n",
    "\n",
    "conn_name = \"vowel\"\n",
    "\n",
    "connections.connect(conn_name)\n"
   ]
  },
  {
   "cell_type": "code",
   "execution_count": 18,
   "id": "9cee2a90-a5c0-4952-b437-164adae446db",
   "metadata": {},
   "outputs": [
    {
     "name": "stdout",
     "output_type": "stream",
     "text": [
      "Current databases:  ['default', 'rag_demo']\n"
     ]
    }
   ],
   "source": [
    "#Create a database in Milvus\n",
    "\n",
    "from pymilvus import db\n",
    "\n",
    "current_dbs=db.list_database(using=conn_name)\n",
    "print(\"Current databases: \", current_dbs)\n",
    "\n",
    "db_name=\"rag_demo\"\n",
    "\n",
    "if ( db_name not in current_dbs):\n",
    "    print(\"Creating database :\", db_name)\n",
    "    resume_db = db.create_database(db_name, using=conn_name) \n",
    "    \n",
    "db.using_database(db_name, using=conn_name)"
   ]
  },
  {
   "cell_type": "code",
   "execution_count": 20,
   "id": "b769be86-90ce-4197-9aa3-1e85f802c9ef",
   "metadata": {},
   "outputs": [
    {
     "name": "stdout",
     "output_type": "stream",
     "text": [
      "['rag_demo_coll']\n",
      "{'auto_id': True, 'description': 'RAG demonstration collection', 'fields': [{'name': 'chunk_id', 'description': '', 'type': <DataType.INT64: 5>, 'is_primary': True, 'auto_id': True}, {'name': 'rating', 'description': '', 'type': <DataType.INT64: 5>}, {'name': 'content_text', 'description': '', 'type': <DataType.VARCHAR: 21>, 'params': {'max_length': 2048}}, {'name': 'content_embedding', 'description': '', 'type': <DataType.FLOAT_VECTOR: 101>, 'params': {'dim': 1024}}], 'enable_dynamic_field': True}\n"
     ]
    }
   ],
   "source": [
    "# Create a collection\n",
    "\n",
    "from pymilvus import CollectionSchema, FieldSchema, DataType, Collection\n",
    "import json\n",
    "\n",
    "chunk_id = FieldSchema(\n",
    "    name=\"chunk_id\",\n",
    "    dtype=DataType.INT64,\n",
    "    is_primary=True,\n",
    "    auto_id=True, #Generate IDs automatically\n",
    "    max_length=32)\n",
    "\n",
    "rating = FieldSchema(\n",
    "    name=\"rating\",\n",
    "    dtype=DataType.INT64,\n",
    "    max_length=32)\n",
    "\n",
    "content_text= FieldSchema(\n",
    "    name=\"content_text\",\n",
    "    dtype=DataType.VARCHAR,\n",
    "    max_length=2048)\n",
    "\n",
    "content_embedding = FieldSchema(\n",
    "    name=\"content_embedding\",\n",
    "    dtype=DataType.FLOAT_VECTOR,\n",
    "    dim=1024   #Mistral embedding size\n",
    ")\n",
    "\n",
    "content_schema=CollectionSchema(\n",
    "    fields=[chunk_id, rating, content_text, content_embedding],\n",
    "    description=\"RAG demonstration collection\",\n",
    "    enable_dynamic_field=True\n",
    ")\n",
    "\n",
    "collection_name=\"rag_demo_coll\"\n",
    "\n",
    "rag_collection=Collection(\n",
    "    name=collection_name,\n",
    "    schema=content_schema,\n",
    "    using=conn_name,\n",
    "    shard_num=2\n",
    ")\n",
    "\n",
    "from pymilvus import utility\n",
    "print(utility.list_collections(using=conn_name))\n",
    "\n",
    "rag_collection=Collection(collection_name, using=conn_name)\n",
    "print(rag_collection.schema)\n"
   ]
  },
  {
   "cell_type": "markdown",
   "id": "8d80a630-f374-450e-85fa-7661dc840d00",
   "metadata": {},
   "source": [
    "### Create embeddings"
   ]
  },
  {
   "cell_type": "code",
   "execution_count": 21,
   "id": "fac689be-4b95-4b04-b244-b29530845734",
   "metadata": {},
   "outputs": [],
   "source": [
    "from mistralai.client import MistralClient\n",
    "from sentence_transformers import SentenceTransformer\n",
    "\n",
    "\n",
    "mistral_client = MistralClient(api_key=\"jnZL0bXjwnZiMdd10C6ooBNXY8vvuQEV\")\n",
    "\n",
    "i_rating = ref_content[\"Rating\"].tolist()\n",
    "\n",
    "i_content_text = ref_content[\"Content\"].tolist()\n",
    "\n",
    "embeddings_response = mistral_client.embeddings(\n",
    "      model=\"mistral-embed\",\n",
    "      input=i_content_text,\n",
    "  )\n",
    "\n",
    "i_content_embedding=[i.embedding\n",
    "                     for i in embeddings_response.data]\n",
    "\n",
    "insert_data=[i_rating,i_content_text, i_content_embedding]\n"
   ]
  },
  {
   "cell_type": "markdown",
   "id": "a4eb107e-21a1-4dff-91d9-38afd689da67",
   "metadata": {},
   "source": [
    "### Insert and Index"
   ]
  },
  {
   "cell_type": "code",
   "execution_count": 22,
   "id": "db5a8b6e-e43f-4910-8f51-e675596ecbde",
   "metadata": {},
   "outputs": [
    {
     "name": "stdout",
     "output_type": "stream",
     "text": [
      "Inserted data. Now flushing\n"
     ]
    }
   ],
   "source": [
    "mr=rag_collection.insert(insert_data)\n",
    "print(\"Inserted data. Now flushing\")\n",
    "\n",
    "rag_collection.flush(timeout=180)\n"
   ]
  },
  {
   "cell_type": "code",
   "execution_count": 23,
   "id": "bf2dc11f-dca3-465c-ac58-4197fe7492ee",
   "metadata": {},
   "outputs": [
    {
     "data": {
      "text/plain": [
       "{'total_rows': 8, 'indexed_rows': 8, 'pending_index_rows': 0}"
      ]
     },
     "execution_count": 23,
     "metadata": {},
     "output_type": "execute_result"
    }
   ],
   "source": [
    "index_params = {\n",
    "    \"metric_type\":\"L2\",\n",
    "    \"index_type\":\"IVF_FLAT\",\n",
    "    \"params\" :{\"nlist\":1024}\n",
    "}\n",
    "\n",
    "rag_collection.create_index(\n",
    "    field_name=\"content_embedding\",\n",
    "    index_params=index_params\n",
    ")\n",
    "\n",
    "utility.index_building_progress(collection_name,using=conn_name)"
   ]
  },
  {
   "cell_type": "markdown",
   "id": "bfc1de6a-8da9-4195-bd79-00814a685045",
   "metadata": {},
   "source": [
    "### Run Scalar queries"
   ]
  },
  {
   "cell_type": "code",
   "execution_count": 24,
   "id": "4a05283b-7dcd-4320-b70d-0d071f404fd5",
   "metadata": {},
   "outputs": [
    {
     "name": "stdout",
     "output_type": "stream",
     "text": [
      "446976531358641952 \t 10 \t Python Python Python Python Python\n",
      "446976531358641954 \t 6 \t Python HR Development Sales Marketing\n",
      "446976531358641955 \t 9 \t Snake Viper Reptile cobra anaconda\n",
      "446976531358641958 \t 7 \t Google Amazon Microsoft Facebook Apple\n",
      "446976531358641959 \t 8 \t Apple Orange Grape Melon Berry\n"
     ]
    }
   ],
   "source": [
    "#Load the collection\n",
    "rag_collection.load()\n",
    "\n",
    "\n",
    "q_result= rag_collection.query(\n",
    "    expr = \"rating > 5\",\n",
    "    output_fields = [\"chunk_id\",\"rating\",\"content_text\"]\n",
    ")\n",
    "for i in q_result:\n",
    "    print(i.get(\"chunk_id\"), \"\\t\", i.get(\"rating\"), \"\\t\", i.get(\"content_text\"))"
   ]
  },
  {
   "cell_type": "markdown",
   "id": "1a8f3bfc-920a-4f2f-8852-ac4deedb41d0",
   "metadata": {},
   "source": [
    "### Run Vector Search"
   ]
  },
  {
   "cell_type": "code",
   "execution_count": 117,
   "id": "beed3174-0a57-427e-b703-36f2771adf7b",
   "metadata": {},
   "outputs": [],
   "source": [
    "from rank_bm25 import BM25Okapi\n",
    "from scipy.stats import rankdata\n",
    "from sentence_transformers import CrossEncoder\n",
    "\n",
    "def run_search(search_string):\n",
    "    \n",
    "    search_params = {\n",
    "        \"metric_type\": \"L2\", \n",
    "        \"offset\": 0, \n",
    "        \"ignore_growing\": False, \n",
    "        \"params\": {\"nprobe\": 10,  \"radius\":0.9}\n",
    "    }\n",
    "    \n",
    "    #Get embedding for search string\n",
    "    search_embed=mistral_client.embeddings(\n",
    "          model=\"mistral-embed\",\n",
    "          input=[search_string],\n",
    "      ).data[0].embedding\n",
    "    \n",
    "    q_results=rag_collection.search(\n",
    "        data=[search_embed],\n",
    "        anns_field=\"content_embedding\",\n",
    "        param=search_params,\n",
    "        limit=5, #Total number of returned results\n",
    "        expr=None,\n",
    "        output_fields=[\"content_text\"],\n",
    "        consistency_level=\"Strong\"\n",
    "    )\n",
    "\n",
    "    #Rank using BM25\n",
    "    #Collect content text in an array\n",
    "    # hit_list = [i.entity.get(\"content_text\") for i in q_results[0]]\n",
    "\n",
    "    # tokenized_hit_list = [doc.split(\" \") for doc in hit_list]\n",
    "\n",
    "    # bm25 = BM25Okapi(tokenized_hit_list)\n",
    "    \n",
    "    # tokenized_query = search_string.split(\" \")\n",
    "    \n",
    "    # doc_scores = bm25.get_scores(tokenized_query)\n",
    "    # doc_ranks = rankdata([1 - i for i in doc_scores], method='ordinal')\n",
    "    #Ranking complete\n",
    "\n",
    "\n",
    "    #Rerank using Cross encoders\n",
    "    reranker = CrossEncoder(\"cross-encoder/ms-marco-TinyBERT-L-2-v2\")\n",
    "    \n",
    "    rerank_input = [(search_string,i.entity.get(\"content_text\"))\n",
    "                    for i in q_results[0] ]\n",
    "    \n",
    "    doc_scores = reranker.predict(rerank_input)\n",
    "    \n",
    "    doc_ranks = rankdata([1 - i for i in doc_scores], method='ordinal')\n",
    "    #Rerank\n",
    "    \n",
    "    print(\"-----------------------------------------------------------------------------------\")\n",
    "    print(\"Search string : \", search_string)\n",
    "    print(\"-----------------------------------------------------------------------------------\")\n",
    "    for i in range(len(q_results[0])):\n",
    "        hit=q_results[0][i]\n",
    "        print( \"Dist=\", str(round(hit.distance,2)),\"\\t\",hit.entity.get(\"content_text\"),\n",
    "              \"\\t CE Rank=\", doc_ranks[i], \" CE Score=\", str(round(doc_scores[i],2)))\n",
    "\n",
    "    return q_results[0],doc_ranks\n",
    "    "
   ]
  },
  {
   "cell_type": "code",
   "execution_count": 118,
   "id": "7de6172c-d724-41ad-9f96-369847b291a4",
   "metadata": {},
   "outputs": [
    {
     "name": "stdout",
     "output_type": "stream",
     "text": [
      "-----------------------------------------------------------------------------------\n",
      "Search string :  Python\n",
      "-----------------------------------------------------------------------------------\n",
      "Dist= 0.26 \t Python Python Python Python Python \t CE Rank= 1  CE Score= 5.35\n",
      "Dist= 0.48 \t Python HR Development Sales Marketing \t CE Rank= 2  CE Score= -1.13\n",
      "Dist= 0.49 \t C Java Javascript Python Pascal \t CE Rank= 3  CE Score= -1.21\n",
      "Dist= 0.52 \t Snake Viper Reptile cobra anaconda \t CE Rank= 4  CE Score= -10.75\n",
      "Dist= 0.65 \t Lion Tiger Elephant Whale Crocodile \t CE Rank= 5  CE Score= -11.12\n",
      "-----------------------------------------------------------------------------------\n",
      "Search string :  PHP\n",
      "-----------------------------------------------------------------------------------\n",
      "Dist= 0.48 \t C Java Javascript Python Pascal \t CE Rank= 1  CE Score= -10.15\n",
      "Dist= 0.56 \t Python Python Python Python Python \t CE Rank= 3  CE Score= -11.07\n",
      "Dist= 0.61 \t Python HR Development Sales Marketing \t CE Rank= 4  CE Score= -11.1\n",
      "Dist= 0.65 \t Apple Orange Grape Melon Berry \t CE Rank= 5  CE Score= -11.36\n",
      "Dist= 0.65 \t Google Amazon Microsoft Facebook Apple \t CE Rank= 2  CE Score= -10.39\n",
      "-----------------------------------------------------------------------------------\n",
      "Search string :  Snake\n",
      "-----------------------------------------------------------------------------------\n",
      "Dist= 0.35 \t Snake Viper Reptile cobra anaconda \t CE Rank= 1  CE Score= -1.18\n",
      "Dist= 0.53 \t Python Python Python Python Python \t CE Rank= 3  CE Score= -11.15\n",
      "Dist= 0.53 \t Lion Tiger Elephant Whale Crocodile \t CE Rank= 2  CE Score= -10.45\n",
      "Dist= 0.6 \t C Java Javascript Python Pascal \t CE Rank= 4  CE Score= -11.45\n",
      "Dist= 0.61 \t Apple Orange Grape Melon Berry \t CE Rank= 5  CE Score= -11.47\n",
      "-----------------------------------------------------------------------------------\n",
      "Search string :  molecule\n",
      "-----------------------------------------------------------------------------------\n",
      "Dist= 0.65 \t Apple Orange Grape Melon Berry \t CE Rank= 5  CE Score= -11.45\n",
      "Dist= 0.66 \t Lion Tiger Elephant Whale Crocodile \t CE Rank= 3  CE Score= -11.37\n",
      "Dist= 0.66 \t Snake Viper Reptile cobra anaconda \t CE Rank= 2  CE Score= -11.37\n",
      "Dist= 0.69 \t C Java Javascript Python Pascal \t CE Rank= 1  CE Score= -11.35\n",
      "Dist= 0.72 \t Python Python Python Python Python \t CE Rank= 4  CE Score= -11.44\n"
     ]
    },
    {
     "data": {
      "text/plain": [
       "(<pymilvus.orm.search.Hits at 0x7fd3859df7c0>, array([5, 3, 2, 1, 4]))"
      ]
     },
     "execution_count": 118,
     "metadata": {},
     "output_type": "execute_result"
    }
   ],
   "source": [
    "run_search(\"Python\")\n",
    "run_search(\"PHP\")\n",
    "run_search(\"Snake\")\n",
    "run_search(\"molecule\")"
   ]
  },
  {
   "cell_type": "markdown",
   "id": "706fa3b6-3f8e-4bf9-966c-616eea3bc353",
   "metadata": {},
   "source": [
    "### Generate using LLM"
   ]
  },
  {
   "cell_type": "code",
   "execution_count": 120,
   "id": "5cfa1d83-72b8-40c7-a790-f97bd0dfd26c",
   "metadata": {},
   "outputs": [
    {
     "name": "stdout",
     "output_type": "stream",
     "text": [
      "Response without Retrieval : \n",
      "----------------------------\n",
      " Python is a versatile and popular programming language that is used in various fields and industries for different purposes. Here are some common areas where Python is used:\n",
      "\n",
      "1. Web Development: Python is used in web development through frameworks like Django and Flask, which allow for fast development and scalability.\n",
      "2. Data Science and Machine Learning: Python is widely used in data science and machine learning due to its simplicity, ease of use, and the availability of powerful libraries like NumPy, Pandas, Matplotlib, and Scikit-learn.\n",
      "3. Scientific Computing: Python is used in scientific computing for data analysis, modeling, and simulation.\n",
      "4. Artificial Intelligence and Robotics: Python is used in artificial intelligence and robotics for building intelligent systems, machine learning models, and controlling robots.\n",
      "5. Network Programming: Python is used in network programming for developing network applications, protocols, and tools.\n",
      "6. Game Development: Python is used in game development for creating interactive games and simulations.\n",
      "7. Business and Finance: Python is used in business and finance for data analysis, financial modeling, and automating financial processes.\n",
      "8. Education: Python is widely used in education to teach programming concepts to students due to its simplicity and ease of use.\n",
      "9. System Administration: Python is used in system administration for automating tasks and managing servers.\n",
      "10. Desktop Applications: Python is used in building desktop applications, especially for rapid application development.\n",
      "\n",
      "These are just a few of the many areas where Python is used. Its flexibility and versatility make it a popular choice for developers and organizations alike.\n"
     ]
    }
   ],
   "source": [
    "from mistralai.client import MistralClient\n",
    "from mistralai.models.chat_completion import ChatMessage\n",
    "\n",
    "search_string=\"Where is Python used?\"\n",
    "\n",
    "model = \"mistral-tiny\"\n",
    "\n",
    "#Generate without Retrieval support\n",
    "messages = [\n",
    "    ChatMessage(role=\"user\", content=search_string)\n",
    "]\n",
    "\n",
    "chat_response = mistral_client.chat(\n",
    "    model=model,\n",
    "    messages=messages\n",
    ")\n",
    "print(\"Response without Retrieval : \\n----------------------------\\n\", \n",
    "      chat_response.choices[0].message.content)\n"
   ]
  },
  {
   "cell_type": "code",
   "execution_count": 122,
   "id": "1bed03d6-b179-4bad-a795-ecaffec0eb42",
   "metadata": {},
   "outputs": [
    {
     "name": "stdout",
     "output_type": "stream",
     "text": [
      "-----------------------------------------------------------------------------------\n",
      "Search string :  Where is Python used?\n",
      "-----------------------------------------------------------------------------------\n",
      "Dist= 0.39 \t Python Python Python Python Python \t CE Rank= 1  CE Score= -1.76\n",
      "Dist= 0.51 \t C Java Javascript Python Pascal \t CE Rank= 3  CE Score= -7.48\n",
      "Dist= 0.57 \t Python HR Development Sales Marketing \t CE Rank= 2  CE Score= -7.34\n",
      "Dist= 0.65 \t Snake Viper Reptile cobra anaconda \t CE Rank= 5  CE Score= -11.5\n",
      "Dist= 0.72 \t Google Amazon Microsoft Facebook Apple \t CE Rank= 4  CE Score= -11.49\n"
     ]
    }
   ],
   "source": [
    "#Generate with retreival support\n",
    "retreived_results, doc_ranks = run_search(search_string)"
   ]
  },
  {
   "cell_type": "code",
   "execution_count": 123,
   "id": "1b5156dc-7688-42c9-94e5-5525735eded2",
   "metadata": {},
   "outputs": [
    {
     "name": "stdout",
     "output_type": "stream",
     "text": [
      "Context information is below.\n",
      "---------------------\n",
      "Python Python Python Python Python. Python HR Development Sales Marketing. C Java Javascript Python Pascal\n",
      "---------------------\n",
      "Given the context information and not any prior knowledge, answer the query. Answer should use only information in the context\n",
      "Query: Where is Python used?\n"
     ]
    }
   ],
   "source": [
    "#Pick only the top 3 results and form the prompt\n",
    "\n",
    "context_list = [i.entity.get(\"content_text\") \n",
    "                for i in retreived_results]\n",
    "\n",
    "#Sort the results based on doc ranks\n",
    "sorted_list = [x for _, x in sorted(zip(doc_ranks, context_list))]\n",
    "\n",
    "context_str=\". \".join(sorted_list[0:3])\n",
    "\n",
    "prompt=\"Context information is below.\\n\" + \\\n",
    "\"---------------------\\n\" + \\\n",
    "context_str +\"\\n\" + \\\n",
    "\"---------------------\\n\" + \\\n",
    "\"Given the context information and not any prior knowledge, answer the query. \\\n",
    "Answer should use only information in the context\\n\" +  \\\n",
    "\"Query: \" + search_string\n",
    "\n",
    "print(prompt)"
   ]
  },
  {
   "cell_type": "code",
   "execution_count": 124,
   "id": "3c97b738-b979-45a8-8c09-2443528530a2",
   "metadata": {},
   "outputs": [
    {
     "name": "stdout",
     "output_type": "stream",
     "text": [
      "Response with Retrieval : \n",
      "----------------------------\n",
      " Based on the context information provided, Python is used in various fields such as HR Development, Sales, Marketing, and also in programming languages like C, Java, Javascript, and Pascal. However, the context does not specify in what exact way Python is used in these fields or in combination with other languages.\n"
     ]
    }
   ],
   "source": [
    "#Generate with Retrieval support\n",
    "messages = [\n",
    "    ChatMessage(role=\"user\", content=prompt)\n",
    "]\n",
    "\n",
    "chat_response = mistral_client.chat(\n",
    "    model=model,\n",
    "    messages=messages\n",
    ")\n",
    "print(\"Response with Retrieval : \\n----------------------------\\n\", \n",
    "      chat_response.choices[0].message.content)"
   ]
  },
  {
   "cell_type": "code",
   "execution_count": null,
   "id": "cc9491d0-ae72-40aa-a43a-1089e74cb3cf",
   "metadata": {},
   "outputs": [],
   "source": []
  }
 ],
 "metadata": {
  "kernelspec": {
   "display_name": "Python 3 (ipykernel)",
   "language": "python",
   "name": "python3"
  },
  "language_info": {
   "codemirror_mode": {
    "name": "ipython",
    "version": 3
   },
   "file_extension": ".py",
   "mimetype": "text/x-python",
   "name": "python",
   "nbconvert_exporter": "python",
   "pygments_lexer": "ipython3",
   "version": "3.9.18"
  }
 },
 "nbformat": 4,
 "nbformat_minor": 5
}
