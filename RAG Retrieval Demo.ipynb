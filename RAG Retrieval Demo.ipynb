{
 "cells": [
  {
   "cell_type": "code",
   "execution_count": 28,
   "id": "52dd41f2-db14-416a-b2d6-20843434869e",
   "metadata": {},
   "outputs": [
    {
     "name": "stderr",
     "output_type": "stream",
     "text": [
      "huggingface/tokenizers: The current process just got forked, after parallelism has already been used. Disabling parallelism to avoid deadlocks...\n",
      "To disable this warning, you can either:\n",
      "\t- Avoid using `tokenizers` before the fork if possible\n",
      "\t- Explicitly set the environment variable TOKENIZERS_PARALLELISM=(true | false)\n"
     ]
    },
    {
     "name": "stdout",
     "output_type": "stream",
     "text": [
      "Collecting rank_bm25\n",
      "  Downloading rank_bm25-0.2.2-py3-none-any.whl (8.6 kB)\n",
      "Requirement already satisfied: numpy in /Users/kponnamb/opt/anaconda3/envs/RAG/lib/python3.9/site-packages (from rank_bm25) (1.26.3)\n",
      "Installing collected packages: rank_bm25\n",
      "Successfully installed rank_bm25-0.2.2\n"
     ]
    }
   ],
   "source": [
    "#!pip install pymilvus==2.3.0\n",
    "#!pip install transformers==4.35.2\n",
    "#!pip install pandas==2.1.3\n",
    "#!pip install mistralai\n",
    "!pip install rank_bm25"
   ]
  },
  {
   "cell_type": "markdown",
   "id": "d9b085f1-33b1-4bc2-adf8-d1521388cfea",
   "metadata": {},
   "source": [
    "### Loading a Test CSV"
   ]
  },
  {
   "cell_type": "code",
   "execution_count": 16,
   "id": "7f0e2be1-2858-454a-9252-6c110262b32e",
   "metadata": {},
   "outputs": [
    {
     "data": {
      "text/html": [
       "<div>\n",
       "<style scoped>\n",
       "    .dataframe tbody tr th:only-of-type {\n",
       "        vertical-align: middle;\n",
       "    }\n",
       "\n",
       "    .dataframe tbody tr th {\n",
       "        vertical-align: top;\n",
       "    }\n",
       "\n",
       "    .dataframe thead th {\n",
       "        text-align: right;\n",
       "    }\n",
       "</style>\n",
       "<table border=\"1\" class=\"dataframe\">\n",
       "  <thead>\n",
       "    <tr style=\"text-align: right;\">\n",
       "      <th></th>\n",
       "      <th>Rating</th>\n",
       "      <th>Content</th>\n",
       "    </tr>\n",
       "  </thead>\n",
       "  <tbody>\n",
       "    <tr>\n",
       "      <th>0</th>\n",
       "      <td>10</td>\n",
       "      <td>Python Python Python Python Python</td>\n",
       "    </tr>\n",
       "    <tr>\n",
       "      <th>1</th>\n",
       "      <td>3</td>\n",
       "      <td>C Java Javascript Python Pascal</td>\n",
       "    </tr>\n",
       "    <tr>\n",
       "      <th>2</th>\n",
       "      <td>6</td>\n",
       "      <td>Python HR Development Sales Marketing</td>\n",
       "    </tr>\n",
       "    <tr>\n",
       "      <th>3</th>\n",
       "      <td>9</td>\n",
       "      <td>Snake Viper Reptile cobra anaconda</td>\n",
       "    </tr>\n",
       "    <tr>\n",
       "      <th>4</th>\n",
       "      <td>2</td>\n",
       "      <td>Brady Messi Ronaldo James Becker</td>\n",
       "    </tr>\n",
       "    <tr>\n",
       "      <th>5</th>\n",
       "      <td>5</td>\n",
       "      <td>Lion Tiger Elephant Whale Crocodile</td>\n",
       "    </tr>\n",
       "    <tr>\n",
       "      <th>6</th>\n",
       "      <td>7</td>\n",
       "      <td>Google Amazon Microsoft Facebook Apple</td>\n",
       "    </tr>\n",
       "    <tr>\n",
       "      <th>7</th>\n",
       "      <td>8</td>\n",
       "      <td>Apple Orange Grape Melon Berry</td>\n",
       "    </tr>\n",
       "  </tbody>\n",
       "</table>\n",
       "</div>"
      ],
      "text/plain": [
       "   Rating                                 Content\n",
       "0      10      Python Python Python Python Python\n",
       "1       3         C Java Javascript Python Pascal\n",
       "2       6   Python HR Development Sales Marketing\n",
       "3       9      Snake Viper Reptile cobra anaconda\n",
       "4       2        Brady Messi Ronaldo James Becker\n",
       "5       5     Lion Tiger Elephant Whale Crocodile\n",
       "6       7  Google Amazon Microsoft Facebook Apple\n",
       "7       8          Apple Orange Grape Melon Berry"
      ]
     },
     "execution_count": 16,
     "metadata": {},
     "output_type": "execute_result"
    }
   ],
   "source": [
    "import pandas as pd\n",
    "ref_content = pd.read_csv(\"rag-reference.csv\")\n",
    "ref_content.head(10)"
   ]
  },
  {
   "cell_type": "markdown",
   "id": "86bc7505-c3ad-4e5c-8bdc-34178114c80c",
   "metadata": {},
   "source": [
    "### Setup Milvus"
   ]
  },
  {
   "cell_type": "code",
   "execution_count": 17,
   "id": "8b675bcd-687a-48ee-8032-78cb525673ca",
   "metadata": {},
   "outputs": [],
   "source": [
    "#Creating a Milvus connection\n",
    "\n",
    "from pymilvus import connections\n",
    "\n",
    "connections.add_connection(\n",
    "    vowel={\n",
    "        \"host\": \"localhost\",\n",
    "        \"port\": \"19530\",\n",
    "        \"username\" : \"username\",\n",
    "        \"password\" : \"password\"\n",
    "    })\n",
    "\n",
    "conn_name = \"vowel\"\n",
    "\n",
    "connections.connect(conn_name)\n"
   ]
  },
  {
   "cell_type": "code",
   "execution_count": 18,
   "id": "9cee2a90-a5c0-4952-b437-164adae446db",
   "metadata": {},
   "outputs": [
    {
     "name": "stdout",
     "output_type": "stream",
     "text": [
      "Current databases:  ['default', 'rag_demo']\n"
     ]
    }
   ],
   "source": [
    "#Create a database in Milvus\n",
    "\n",
    "from pymilvus import db\n",
    "\n",
    "current_dbs=db.list_database(using=conn_name)\n",
    "print(\"Current databases: \", current_dbs)\n",
    "\n",
    "db_name=\"rag_demo\"\n",
    "\n",
    "if ( db_name not in current_dbs):\n",
    "    print(\"Creating database :\", db_name)\n",
    "    resume_db = db.create_database(db_name, using=conn_name) \n",
    "    \n",
    "db.using_database(db_name, using=conn_name)"
   ]
  },
  {
   "cell_type": "code",
   "execution_count": 20,
   "id": "b769be86-90ce-4197-9aa3-1e85f802c9ef",
   "metadata": {},
   "outputs": [
    {
     "name": "stdout",
     "output_type": "stream",
     "text": [
      "['rag_demo_coll']\n",
      "{'auto_id': True, 'description': 'RAG demonstration collection', 'fields': [{'name': 'chunk_id', 'description': '', 'type': <DataType.INT64: 5>, 'is_primary': True, 'auto_id': True}, {'name': 'rating', 'description': '', 'type': <DataType.INT64: 5>}, {'name': 'content_text', 'description': '', 'type': <DataType.VARCHAR: 21>, 'params': {'max_length': 2048}}, {'name': 'content_embedding', 'description': '', 'type': <DataType.FLOAT_VECTOR: 101>, 'params': {'dim': 1024}}], 'enable_dynamic_field': True}\n"
     ]
    }
   ],
   "source": [
    "# Create a collection\n",
    "\n",
    "from pymilvus import CollectionSchema, FieldSchema, DataType, Collection\n",
    "import json\n",
    "\n",
    "chunk_id = FieldSchema(\n",
    "    name=\"chunk_id\",\n",
    "    dtype=DataType.INT64,\n",
    "    is_primary=True,\n",
    "    auto_id=True, #Generate IDs automatically\n",
    "    max_length=32)\n",
    "\n",
    "rating = FieldSchema(\n",
    "    name=\"rating\",\n",
    "    dtype=DataType.INT64,\n",
    "    max_length=32)\n",
    "\n",
    "content_text= FieldSchema(\n",
    "    name=\"content_text\",\n",
    "    dtype=DataType.VARCHAR,\n",
    "    max_length=2048)\n",
    "\n",
    "content_embedding = FieldSchema(\n",
    "    name=\"content_embedding\",\n",
    "    dtype=DataType.FLOAT_VECTOR,\n",
    "    dim=1024   #Mistral embedding size\n",
    ")\n",
    "\n",
    "content_schema=CollectionSchema(\n",
    "    fields=[chunk_id, rating, content_text, content_embedding],\n",
    "    description=\"RAG demonstration collection\",\n",
    "    enable_dynamic_field=True\n",
    ")\n",
    "\n",
    "collection_name=\"rag_demo_coll\"\n",
    "\n",
    "resume_collection=Collection(\n",
    "    name=collection_name,\n",
    "    schema=content_schema,\n",
    "    using=conn_name,\n",
    "    shard_num=2\n",
    ")\n",
    "\n",
    "from pymilvus import utility\n",
    "print(utility.list_collections(using=conn_name))\n",
    "\n",
    "rag_collection=Collection(collection_name, using=conn_name)\n",
    "print(rag_collection.schema)\n"
   ]
  },
  {
   "cell_type": "markdown",
   "id": "8d80a630-f374-450e-85fa-7661dc840d00",
   "metadata": {},
   "source": [
    "### Create embeddings"
   ]
  },
  {
   "cell_type": "code",
   "execution_count": 21,
   "id": "fac689be-4b95-4b04-b244-b29530845734",
   "metadata": {},
   "outputs": [],
   "source": [
    "from mistralai.client import MistralClient\n",
    "from sentence_transformers import SentenceTransformer\n",
    "\n",
    "\n",
    "mistral_client = MistralClient(api_key=\"jnZL0bXjwnZiMdd10C6ooBNXY8vvuQEV\")\n",
    "\n",
    "i_rating = ref_content[\"Rating\"].tolist()\n",
    "\n",
    "i_content_text = ref_content[\"Content\"].tolist()\n",
    "\n",
    "embeddings_response = mistral_client.embeddings(\n",
    "      model=\"mistral-embed\",\n",
    "      input=i_content_text,\n",
    "  )\n",
    "\n",
    "i_content_embedding=[i.embedding\n",
    "                     for i in embeddings_response.data]\n",
    "\n",
    "insert_data=[i_rating,i_content_text, i_content_embedding]\n"
   ]
  },
  {
   "cell_type": "markdown",
   "id": "a4eb107e-21a1-4dff-91d9-38afd689da67",
   "metadata": {},
   "source": [
    "### Insert and Index"
   ]
  },
  {
   "cell_type": "code",
   "execution_count": 22,
   "id": "db5a8b6e-e43f-4910-8f51-e675596ecbde",
   "metadata": {},
   "outputs": [
    {
     "name": "stdout",
     "output_type": "stream",
     "text": [
      "Inserted data. Now flushing\n"
     ]
    }
   ],
   "source": [
    "mr=rag_collection.insert(insert_data)\n",
    "print(\"Inserted data. Now flushing\")\n",
    "\n",
    "rag_collection.flush(timeout=180)\n"
   ]
  },
  {
   "cell_type": "code",
   "execution_count": 23,
   "id": "bf2dc11f-dca3-465c-ac58-4197fe7492ee",
   "metadata": {},
   "outputs": [
    {
     "data": {
      "text/plain": [
       "{'total_rows': 8, 'indexed_rows': 8, 'pending_index_rows': 0}"
      ]
     },
     "execution_count": 23,
     "metadata": {},
     "output_type": "execute_result"
    }
   ],
   "source": [
    "index_params = {\n",
    "    \"metric_type\":\"L2\",\n",
    "    \"index_type\":\"IVF_FLAT\",\n",
    "    \"params\" :{\"nlist\":1024}\n",
    "}\n",
    "\n",
    "rag_collection.create_index(\n",
    "    field_name=\"content_embedding\",\n",
    "    index_params=index_params\n",
    ")\n",
    "\n",
    "utility.index_building_progress(collection_name,using=conn_name)"
   ]
  },
  {
   "cell_type": "markdown",
   "id": "bfc1de6a-8da9-4195-bd79-00814a685045",
   "metadata": {},
   "source": [
    "### Run Scalar queries"
   ]
  },
  {
   "cell_type": "code",
   "execution_count": 24,
   "id": "4a05283b-7dcd-4320-b70d-0d071f404fd5",
   "metadata": {},
   "outputs": [
    {
     "name": "stdout",
     "output_type": "stream",
     "text": [
      "446976531358641952 \t 10 \t Python Python Python Python Python\n",
      "446976531358641954 \t 6 \t Python HR Development Sales Marketing\n",
      "446976531358641955 \t 9 \t Snake Viper Reptile cobra anaconda\n",
      "446976531358641958 \t 7 \t Google Amazon Microsoft Facebook Apple\n",
      "446976531358641959 \t 8 \t Apple Orange Grape Melon Berry\n"
     ]
    }
   ],
   "source": [
    "#Load the collection\n",
    "rag_collection.load()\n",
    "\n",
    "\n",
    "q_result= rag_collection.query(\n",
    "    expr = \"rating > 5\",\n",
    "    output_fields = [\"chunk_id\",\"rating\",\"content_text\"]\n",
    ")\n",
    "for i in q_result:\n",
    "    print(i.get(\"chunk_id\"), \"\\t\", i.get(\"rating\"), \"\\t\", i.get(\"content_text\"))"
   ]
  },
  {
   "cell_type": "markdown",
   "id": "1a8f3bfc-920a-4f2f-8852-ac4deedb41d0",
   "metadata": {},
   "source": [
    "### Run Vector Search"
   ]
  },
  {
   "cell_type": "code",
   "execution_count": 80,
   "id": "beed3174-0a57-427e-b703-36f2771adf7b",
   "metadata": {},
   "outputs": [],
   "source": [
    "from rank_bm25 import BM25Okapi\n",
    "from scipy.stats import rankdata\n",
    "\n",
    "def run_search(search_string):\n",
    "    \n",
    "    search_params = {\n",
    "        \"metric_type\": \"L2\", \n",
    "        \"offset\": 0, \n",
    "        \"ignore_growing\": False, \n",
    "        \"params\": {\"nprobe\": 10,  \"radius\":0.9}\n",
    "    }\n",
    "    \n",
    "    #Get embedding for search string\n",
    "    search_embed=mistral_client.embeddings(\n",
    "          model=\"mistral-embed\",\n",
    "          input=[search_string],\n",
    "      ).data[0].embedding\n",
    "    \n",
    "    q_results=rag_collection.search(\n",
    "        data=[search_embed],\n",
    "        anns_field=\"content_embedding\",\n",
    "        param=search_params,\n",
    "        limit=5, #Total number of returned results\n",
    "        expr=None,\n",
    "        output_fields=[\"content_text\"],\n",
    "        consistency_level=\"Strong\"\n",
    "    )\n",
    "\n",
    "    #Rank using BM25\n",
    "    #Collect content text in an array\n",
    "    hit_list = [i.entity.get(\"content_text\") for i in q_results[0]]\n",
    "\n",
    "    tokenized_hit_list = [doc.split(\" \") for doc in hit_list]\n",
    "\n",
    "    bm25 = BM25Okapi(tokenized_hit_list)\n",
    "    \n",
    "    tokenized_query = search_string.split(\" \")\n",
    "    \n",
    "    doc_scores = bm25.get_scores(tokenized_query)\n",
    "    doc_ranks = rankdata([1 - i for i in doc_scores], method='ordinal')\n",
    "\n",
    "    #Ranking complete\n",
    "    \n",
    "    print(\"-----------------------------------------------------------------------------------\")\n",
    "    print(\"Search string : \", search_string)\n",
    "    print(\"-----------------------------------------------------------------------------------\")\n",
    "    for i in range(len(q_results[0])):\n",
    "        hit=q_results[0][i]\n",
    "        print( \"Dist=\", str(round(hit.distance,2)),\"\\t\",hit.entity.get(\"content_text\"),\n",
    "              \"\\t BM25 Rank=\", doc_ranks[i], \" BM25 Score=\", str(round(doc_scores[i],2)))\n",
    "\n",
    "    return q_results[0],doc_ranks\n",
    "    "
   ]
  },
  {
   "cell_type": "code",
   "execution_count": 71,
   "id": "7de6172c-d724-41ad-9f96-369847b291a4",
   "metadata": {},
   "outputs": [
    {
     "name": "stdout",
     "output_type": "stream",
     "text": [
      "-----------------------------------------------------------------------------------\n",
      "Search string :  Python\n",
      "-----------------------------------------------------------------------------------\n",
      "Dist= 0.26 \t Python Python Python Python Python \t BM25 Rank= 1  BM25 Score= 0.49\n",
      "Dist= 0.48 \t Python HR Development Sales Marketing \t BM25 Rank= 2  BM25 Score= 0.26\n",
      "Dist= 0.49 \t C Java Javascript Python Pascal \t BM25 Rank= 3  BM25 Score= 0.26\n",
      "Dist= 0.52 \t Snake Viper Reptile cobra anaconda \t BM25 Rank= 4  BM25 Score= 0.0\n",
      "Dist= 0.65 \t Lion Tiger Elephant Whale Crocodile \t BM25 Rank= 5  BM25 Score= 0.0\n",
      "-----------------------------------------------------------------------------------\n",
      "Search string :  PHP\n",
      "-----------------------------------------------------------------------------------\n",
      "Dist= 0.48 \t C Java Javascript Python Pascal \t BM25 Rank= 1  BM25 Score= 0.0\n",
      "Dist= 0.56 \t Python Python Python Python Python \t BM25 Rank= 2  BM25 Score= 0.0\n",
      "Dist= 0.61 \t Python HR Development Sales Marketing \t BM25 Rank= 3  BM25 Score= 0.0\n",
      "Dist= 0.65 \t Apple Orange Grape Melon Berry \t BM25 Rank= 4  BM25 Score= 0.0\n",
      "Dist= 0.65 \t Google Amazon Microsoft Facebook Apple \t BM25 Rank= 5  BM25 Score= 0.0\n",
      "-----------------------------------------------------------------------------------\n",
      "Search string :  Snake\n",
      "-----------------------------------------------------------------------------------\n",
      "Dist= 0.35 \t Snake Viper Reptile cobra anaconda \t BM25 Rank= 1  BM25 Score= 1.1\n",
      "Dist= 0.53 \t Python Python Python Python Python \t BM25 Rank= 2  BM25 Score= 0.0\n",
      "Dist= 0.53 \t Lion Tiger Elephant Whale Crocodile \t BM25 Rank= 3  BM25 Score= 0.0\n",
      "Dist= 0.6 \t C Java Javascript Python Pascal \t BM25 Rank= 4  BM25 Score= 0.0\n",
      "Dist= 0.61 \t Apple Orange Grape Melon Berry \t BM25 Rank= 5  BM25 Score= 0.0\n",
      "-----------------------------------------------------------------------------------\n",
      "Search string :  molecule\n",
      "-----------------------------------------------------------------------------------\n",
      "Dist= 0.65 \t Apple Orange Grape Melon Berry \t BM25 Rank= 1  BM25 Score= 0.0\n",
      "Dist= 0.66 \t Lion Tiger Elephant Whale Crocodile \t BM25 Rank= 2  BM25 Score= 0.0\n",
      "Dist= 0.66 \t Snake Viper Reptile cobra anaconda \t BM25 Rank= 3  BM25 Score= 0.0\n",
      "Dist= 0.69 \t C Java Javascript Python Pascal \t BM25 Rank= 4  BM25 Score= 0.0\n",
      "Dist= 0.72 \t Python Python Python Python Python \t BM25 Rank= 5  BM25 Score= 0.0\n"
     ]
    },
    {
     "data": {
      "text/plain": [
       "<pymilvus.orm.search.Hits at 0x7fd382fe55e0>"
      ]
     },
     "execution_count": 71,
     "metadata": {},
     "output_type": "execute_result"
    }
   ],
   "source": [
    "run_search(\"Python\")\n",
    "run_search(\"PHP\")\n",
    "run_search(\"Snake\")\n",
    "run_search(\"molecule\")"
   ]
  },
  {
   "cell_type": "markdown",
   "id": "706fa3b6-3f8e-4bf9-966c-616eea3bc353",
   "metadata": {},
   "source": [
    "### Generate using LLM"
   ]
  },
  {
   "cell_type": "code",
   "execution_count": 104,
   "id": "5cfa1d83-72b8-40c7-a790-f97bd0dfd26c",
   "metadata": {},
   "outputs": [
    {
     "name": "stdout",
     "output_type": "stream",
     "text": [
      "Response without Retrieval : \n",
      "----------------------------\n",
      " Python is a versatile and widely-used programming language that can be applied to various fields and industries, making it a popular choice for developers and data scientists. Here are some common areas where Python is used:\n",
      "\n",
      "1. Web Development: Python is used to build web applications through frameworks like Django and Flask. These frameworks help in creating dynamic websites, handling databases, and managing user authentication.\n",
      "\n",
      "2. Data Science and Machine Learning: Python is the go-to language for data science and machine learning due to its simplicity and the availability of powerful libraries like NumPy, Pandas, Matplotlib, and Scikit-learn. These libraries make it easy to process, analyze, and visualize complex data.\n",
      "\n",
      "3. Scientific Computing: Python is used extensively in scientific computing due to its ease of use, flexibility, and the availability of scientific libraries like NumPy, SciPy, and SciPy. These libraries provide tools for mathematical computations, data analysis, and visualization.\n",
      "\n",
      "4. Automation: Python can be used for automating repetitive tasks, making it an ideal choice for tasks like web scraping, data processing, and system administration. Its simple syntax and powerful libraries make it a popular choice for creating scripts to automate tasks.\n",
      "\n",
      "5. Education: Python is widely used as a teaching language due to its simplicity, readability, and the availability of educational resources. It's an excellent starting point for beginners learning to code.\n",
      "\n",
      "6. Game Development: Python can be used for game development through frameworks like Pygame and Panda3D. These frameworks offer features for graphics rendering, sound, and user input, making it possible to create simple games.\n",
      "\n",
      "7. Desktop Applications: Python can be used to create desktop applications using frameworks like PyQt and Kivy. These frameworks offer tools for creating user interfaces, handling user input, and managing data.\n",
      "\n",
      "8. Networking: Python's standard library includes modules for networking, making it an excellent choice for creating network applications. It can be used to build web servers, client applications, and network tools.\n",
      "\n",
      "9. Image Processing: Python's powerful libraries like OpenCV and Pillow make it an excellent choice for image processing tasks, including object detection, image analysis, and image manipulation.\n",
      "\n",
      "10. Multimedia: Python can be used for multimedia applications, including video processing and audio processing, through libraries like OpenCV and FFmpeg.\n",
      "\n",
      "Overall, Python's versatility and simplicity make it a popular choice for various applications, making it an essential language for developers and data scientists.\n"
     ]
    }
   ],
   "source": [
    "from mistralai.client import MistralClient\n",
    "from mistralai.models.chat_completion import ChatMessage\n",
    "\n",
    "search_string=\"Where is Python used?\"\n",
    "\n",
    "model = \"mistral-tiny\"\n",
    "\n",
    "#Generate without Retrieval support\n",
    "messages = [\n",
    "    ChatMessage(role=\"user\", content=search_string)\n",
    "]\n",
    "\n",
    "chat_response = mistral_client.chat(\n",
    "    model=model,\n",
    "    messages=messages\n",
    ")\n",
    "print(\"Response without Retrieval : \\n----------------------------\\n\", \n",
    "      chat_response.choices[0].message.content)\n"
   ]
  },
  {
   "cell_type": "code",
   "execution_count": 105,
   "id": "1bed03d6-b179-4bad-a795-ecaffec0eb42",
   "metadata": {},
   "outputs": [
    {
     "name": "stdout",
     "output_type": "stream",
     "text": [
      "-----------------------------------------------------------------------------------\n",
      "Search string :  Where is Python used?\n",
      "-----------------------------------------------------------------------------------\n",
      "Dist= 0.39 \t Python Python Python Python Python \t BM25 Rank= 1  BM25 Score= 0.49\n",
      "Dist= 0.51 \t C Java Javascript Python Pascal \t BM25 Rank= 2  BM25 Score= 0.26\n",
      "Dist= 0.57 \t Python HR Development Sales Marketing \t BM25 Rank= 3  BM25 Score= 0.26\n",
      "Dist= 0.65 \t Snake Viper Reptile cobra anaconda \t BM25 Rank= 4  BM25 Score= 0.0\n",
      "Dist= 0.72 \t Google Amazon Microsoft Facebook Apple \t BM25 Rank= 5  BM25 Score= 0.0\n"
     ]
    }
   ],
   "source": [
    "#Generate with retreival support\n",
    "retreived_results, doc_ranks = run_search(search_string)"
   ]
  },
  {
   "cell_type": "code",
   "execution_count": 106,
   "id": "1b5156dc-7688-42c9-94e5-5525735eded2",
   "metadata": {},
   "outputs": [
    {
     "name": "stdout",
     "output_type": "stream",
     "text": [
      "Context information is below.\n",
      "---------------------\n",
      "Python Python Python Python Python. C Java Javascript Python Pascal. Python HR Development Sales Marketing\n",
      "---------------------\n",
      "Given the context information and not any prior knowledge, answer the query. Answer should use only information in the context\n",
      "Query: Where is Python used?\n"
     ]
    }
   ],
   "source": [
    "#Pick only the top 3 results and form the prompt\n",
    "\n",
    "context_list = [i.entity.get(\"content_text\") \n",
    "                for i in retreived_results]\n",
    "\n",
    "#Sort the results based on doc ranks\n",
    "sorted_list = [x for _, x in sorted(zip(doc_ranks, context_list))]\n",
    "\n",
    "context_str=\". \".join(sorted_list[0:3])\n",
    "\n",
    "prompt=\"Context information is below.\\n\" + \\\n",
    "\"---------------------\\n\" + \\\n",
    "context_str +\"\\n\" + \\\n",
    "\"---------------------\\n\" + \\\n",
    "\"Given the context information and not any prior knowledge, answer the query. \\\n",
    "Answer should use only information in the context\\n\" +  \\\n",
    "\"Query: \" + search_string\n",
    "\n",
    "print(prompt)"
   ]
  },
  {
   "cell_type": "code",
   "execution_count": 107,
   "id": "3c97b738-b979-45a8-8c09-2443528530a2",
   "metadata": {},
   "outputs": [
    {
     "name": "stdout",
     "output_type": "stream",
     "text": [
      "Response with Retrieval : \n",
      "----------------------------\n",
      " Based on the context information provided, Python is mentioned in close proximity to various fields such as HR Development, Sales, and Marketing. While it does not explicitly state that Python is used in these fields, the presence of the keyword in this context suggests that Python might be used for various tasks or applications within these domains. Additionally, Python is also mentioned in the same line as other programming languages like Java, Javascript, and Pascal, implying its use in software development or related areas. Overall, the context suggests that Python may be used in HR Development, Sales, Marketing, and software development roles.\n"
     ]
    }
   ],
   "source": [
    "#Generate with Retrieval support\n",
    "messages = [\n",
    "    ChatMessage(role=\"user\", content=prompt)\n",
    "]\n",
    "\n",
    "chat_response = mistral_client.chat(\n",
    "    model=model,\n",
    "    messages=messages\n",
    ")\n",
    "print(\"Response with Retrieval : \\n----------------------------\\n\", \n",
    "      chat_response.choices[0].message.content)"
   ]
  },
  {
   "cell_type": "code",
   "execution_count": null,
   "id": "263b91e2-7ad9-4054-8927-23b528fcb591",
   "metadata": {},
   "outputs": [],
   "source": []
  }
 ],
 "metadata": {
  "kernelspec": {
   "display_name": "Python 3 (ipykernel)",
   "language": "python",
   "name": "python3"
  },
  "language_info": {
   "codemirror_mode": {
    "name": "ipython",
    "version": 3
   },
   "file_extension": ".py",
   "mimetype": "text/x-python",
   "name": "python",
   "nbconvert_exporter": "python",
   "pygments_lexer": "ipython3",
   "version": "3.9.18"
  }
 },
 "nbformat": 4,
 "nbformat_minor": 5
}
